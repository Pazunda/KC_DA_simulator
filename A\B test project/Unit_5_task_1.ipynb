{
 "cells": [
  {
   "cell_type": "code",
   "execution_count": 18,
   "id": "d97d4df7",
   "metadata": {},
   "outputs": [],
   "source": [
    "import pandas as pd\n",
    "import hashlib\n",
    "import pandahouse\n",
    "import seaborn as sns\n",
    "import scipy.stats as ss\n",
    "import numpy as np\n",
    "import matplotlib.pyplot\n",
    "sns.set(rc = {'figure.figsize' : (12,6)})"
   ]
  },
  {
   "cell_type": "code",
   "execution_count": 19,
   "id": "563f0bf2",
   "metadata": {},
   "outputs": [],
   "source": [
    "connection = {\n",
    "    'host': 'https://clickhouse.lab.karpov.courses',\n",
    "    'password': 'dpo_python_2020',\n",
    "    'user': 'student',\n",
    "    'database': 'simulator_20240120'\n",
    "}"
   ]
  },
  {
   "cell_type": "markdown",
   "id": "eb35e591",
   "metadata": {},
   "source": [
    "# Задание 1.\n",
    "у нас есть данные А/А-теста с '2023-12-22' по '2023-12-28'. Вам нужно сделать симуляцию, как будто мы провели 10000 А/А-тестов. На каждой итерации вам нужно сформировать подвыборки без повторения в 500 юзеров из 2 и 3 экспериментальной группы. Провести сравнение этих подвыборок t-testом.\n",
    "\n",
    "1. Построить гистограмму распределения получившихся 10000 p-values.\n",
    "\n",
    "2. Посчитать, какой процент p values оказался меньше либо равен 0.05\n",
    "\n",
    "3. Написать вывод по проведенному А/А-тесту, корректно ли работает наша система сплитования. При выполнении задания важно обосновать и аргументировать ваш вывод.\n",
    "\n",
    "### Подсоединимся к Clickhouse  и соберем датасет в который положим посчитанные по пользователям лайки, просмотры и CTR для экспериментальных групп 2 и 3"
   ]
  },
  {
   "cell_type": "code",
   "execution_count": 11,
   "id": "0df8ec3b",
   "metadata": {},
   "outputs": [],
   "source": [
    "q = \"\"\"\n",
    "select exp_group,\n",
    "    user_id,\n",
    "    sum(action = 'like') as likes,\n",
    "    sum(action = 'view') as views,\n",
    "    likes / views as ctr\n",
    "from {db}.feed_actions\n",
    "where toDate(time) between '2023-12-22' and '2023-12-28'\n",
    "    and exp_group in (2,3)\n",
    "    group by exp_group, user_id\n",
    "\"\"\"\n",
    "df = pandahouse.read_clickhouse(q, connection = connection)"
   ]
  },
  {
   "cell_type": "code",
   "execution_count": 12,
   "id": "f0ed3d58",
   "metadata": {},
   "outputs": [
    {
     "name": "stdout",
     "output_type": "stream",
     "text": [
      "<class 'pandas.core.frame.DataFrame'>\n",
      "RangeIndex: 16787 entries, 0 to 16786\n",
      "Data columns (total 5 columns):\n",
      " #   Column     Non-Null Count  Dtype  \n",
      "---  ------     --------------  -----  \n",
      " 0   exp_group  16787 non-null  int8   \n",
      " 1   user_id    16787 non-null  uint32 \n",
      " 2   likes      16787 non-null  uint64 \n",
      " 3   views      16787 non-null  uint64 \n",
      " 4   ctr        16787 non-null  float64\n",
      "dtypes: float64(1), int8(1), uint32(1), uint64(2)\n",
      "memory usage: 475.5 KB\n"
     ]
    }
   ],
   "source": [
    "df.info()"
   ]
  },
  {
   "cell_type": "code",
   "execution_count": 13,
   "id": "7f1c9781",
   "metadata": {},
   "outputs": [
    {
     "name": "stdout",
     "output_type": "stream",
     "text": [
      "8362 пользователей в группе № 2\n",
      "8425 пользователей в группе № 3\n"
     ]
    }
   ],
   "source": [
    "print(f'{df[df.exp_group == 2].user_id.count()} пользователей в группе № 2')\n",
    "print(f'{df[df.exp_group == 3].user_id.count()} пользователей в группе № 3')"
   ]
  },
  {
   "cell_type": "markdown",
   "id": "5b0d5e25",
   "metadata": {},
   "source": [
    "### Всего у нас 16787 пользователей. Распределены они примерно равномерно.\n",
    "\n",
    "### Сделаем подвыборки и проведем Т-тест 10000 раз. \n",
    "   ###       Нулевая гипотеза H0:  средние значения в распределениях групп 2 и 3 не отличаются друг от друга. \n",
    "   ###      Альтернативная гипотеза - средние значения в распределениях групп 2 и 3 статистически значимо  отличаются друг от друга.  \n",
    "\n",
    "### Результаты запишем в перменную pvalue_dist"
   ]
  },
  {
   "cell_type": "code",
   "execution_count": 14,
   "id": "f310ff8a",
   "metadata": {},
   "outputs": [
    {
     "name": "stdout",
     "output_type": "stream",
     "text": [
      "CPU times: user 27.9 s, sys: 19.5 ms, total: 27.9 s\n",
      "Wall time: 28.2 s\n"
     ]
    }
   ],
   "source": [
    "%%time\n",
    "pvalue_dist = []\n",
    "for _ in range(10000):\n",
    "    sample_2 = df[df.exp_group == 2].sample(n=500, replace=False)\n",
    "    sample_3 = df[df.exp_group == 3].sample(n=500, replace=False)\n",
    "\n",
    "    ttest_res = ss.ttest_ind(sample_2.ctr,sample_3.ctr,equal_var = False)\n",
    "    \n",
    "    pvalue_dist.append(ttest_res.pvalue)\n",
    "    \n",
    "    \n",
    "pvalue_dist = pd.Series(pvalue_dist)"
   ]
  },
  {
   "cell_type": "markdown",
   "id": "f820c7a6",
   "metadata": {},
   "source": [
    "### Построим гистограмму"
   ]
  },
  {
   "cell_type": "code",
   "execution_count": 15,
   "id": "63fd945a",
   "metadata": {},
   "outputs": [
    {
     "data": {
      "text/plain": [
       "<Axes: ylabel='Count'>"
      ]
     },
     "execution_count": 15,
     "metadata": {},
     "output_type": "execute_result"
    },
    {
     "data": {
      "image/png": "[encoded data removed]",
      "text/plain": [
       "<Figure size 1152x648 with 1 Axes>"
      ]
     },
     "metadata": {},
     "output_type": "display_data"
    }
   ],
   "source": [
    "sns.histplot(pvalue_dist, bins = 100 )"
   ]
  },
  {
   "cell_type": "markdown",
   "id": "0fecd8d1",
   "metadata": {},
   "source": [
    "### Определим  какой процент p-values оказался ниже или равен 0,05"
   ]
  },
  {
   "cell_type": "code",
   "execution_count": 16,
   "id": "93726108",
   "metadata": {},
   "outputs": [
    {
     "data": {
      "text/plain": [
       "4.32"
      ]
     },
     "execution_count": 16,
     "metadata": {},
     "output_type": "execute_result"
    }
   ],
   "source": [
    "percent = pvalue_dist[pvalue_dist <= 0.05].count() / pvalue_dist.count()*100\n",
    "percent"
   ]
  },
  {
   "cell_type": "markdown",
   "id": "e690f261",
   "metadata": {},
   "source": [
    "## Выводы:\n",
    "1. Пользователи в экспериментальных группах 2 и 3 распределены равномерно\n",
    "2. При многократном проведении т-теста процент случаев, где p-value было меньше или равно 0.05, то есть где были обнаружены статистически значимые различия между группами оказался равен 4,69% - ниже уровня значимости. Этот результат говорит о том, что группы статистически эквивалентны.\n",
    "3. Низкий процент статистически значимых различий между группами говорит о корректной работе системы сплитования. Различия, выявленные в тесте, могут быть случайными."
   ]
  },
  {
   "cell_type": "code",
   "execution_count": null,
   "id": "964d0774",
   "metadata": {},
   "outputs": [],
   "source": []
  },
  {
   "cell_type": "code",
   "execution_count": null,
   "id": "2cb7a75e-c687-4d11-ac18-9fecd6dcb7fd",
   "metadata": {},
   "outputs": [],
   "source": []
  }
 ],
 "metadata": {
  "kernelspec": {
   "display_name": "Python 3 (ipykernel)",
   "language": "python",
   "name": "python3"
  },
  "language_info": {
   "codemirror_mode": {
    "name": "ipython",
    "version": 3
   },
   "file_extension": ".py",
   "mimetype": "text/x-python",
   "name": "python",
   "nbconvert_exporter": "python",
   "pygments_lexer": "ipython3",
   "version": "3.8.10"
  }
 },
 "nbformat": 4,
 "nbformat_minor": 5
}
