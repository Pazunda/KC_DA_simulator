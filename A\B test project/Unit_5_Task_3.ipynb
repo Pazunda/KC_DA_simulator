{
 "cells": [
  {
   "cell_type": "code",
   "execution_count": 21,
   "id": "f86b0482-6a91-4f88-944e-51024c19f38d",
   "metadata": {},
   "outputs": [],
   "source": [
    "import pandas as pd\n",
    "import hashlib\n",
    "import pandahouse\n",
    "import seaborn as sns\n",
    "import scipy.stats as ss\n",
    "import numpy as np\n",
    "import matplotlib.pyplot\n",
    "sns.set(rc = {'figure.figsize' : (12,6)})"
   ]
  },
  {
   "cell_type": "code",
   "execution_count": 2,
   "id": "2f6b5510-c5c7-4e04-bba5-bd92afcd9717",
   "metadata": {},
   "outputs": [],
   "source": [
    "connection = {\n",
    "    'host': 'https://clickhouse.lab.karpov.courses',\n",
    "    'password': 'dpo_python_2020',\n",
    "    'user': 'student',\n",
    "    'database': 'simulator_20240120'\n",
    "}"
   ]
  },
  {
   "cell_type": "markdown",
   "id": "0a70af28-c1d8-40ba-8faa-6142a2d2fce7",
   "metadata": {},
   "source": [
    "# Задание 3\n",
    "\n",
    "Проанализируйте тест между группами 0 и 3 по метрике линеаризованных лайков. Видно ли отличие? Стало ли 𝑝−𝑣𝑎𝑙𝑢𝑒 меньше по сравнению с обычным CTR?\n",
    "\n",
    "Проанализируйте тест между группами 1 и 2 по метрике линеаризованных лайков. Видно ли отличие? Стало ли 𝑝−𝑣𝑎𝑙𝑢𝑒 меньше по сравнению с обычным CTR?\n",
    "\n",
    "Данные берём в том же диапазоне, в котором проводился АБ-тест. При выполнении задания также важно обосновать и аргументировать ваши ответы и выводы.\n",
    "\n",
    "### Сделаем запрос к базе для получения распределения лайков, просмотров и CTR для групп 0 и 3"
   ]
  },
  {
   "cell_type": "code",
   "execution_count": 36,
   "id": "4c24ce94-b9d5-450c-93c8-009129acbcca",
   "metadata": {},
   "outputs": [],
   "source": [
    "q = \"\"\"\n",
    "select exp_group,\n",
    "    user_id,\n",
    "    sum(action = 'like') as likes,\n",
    "    sum(action = 'view') as views,\n",
    "    likes / views as ctr\n",
    "from {db}.feed_actions\n",
    "where toDate(time) between '2023-12-29' and '2024-01-04'\n",
    "    and exp_group in (0,3)\n",
    "    group by exp_group, user_id\n",
    "\"\"\"\n",
    "df = pandahouse.read_clickhouse(q, connection = connection)"
   ]
  },
  {
   "cell_type": "markdown",
   "id": "7bfcd50d-b4dc-4332-90ba-a9eff46840e7",
   "metadata": {},
   "source": [
    "### Считаем общий CTR в контрольной группе"
   ]
  },
  {
   "cell_type": "code",
   "execution_count": 37,
   "id": "a77706e4-f7fd-41b2-89b4-96eefcb0f0d9",
   "metadata": {},
   "outputs": [],
   "source": [
    "CTRcontrol = df[df.exp_group == 0].likes.sum() / df[df.exp_group == 3].views.sum()"
   ]
  },
  {
   "cell_type": "code",
   "execution_count": 38,
   "id": "a883437e-40b4-4d20-bf63-4d13e602a8d8",
   "metadata": {},
   "outputs": [
    {
     "data": {
      "text/html": [
       "<div>\n",
       "<style scoped>\n",
       "    .dataframe tbody tr th:only-of-type {\n",
       "        vertical-align: middle;\n",
       "    }\n",
       "\n",
       "    .dataframe tbody tr th {\n",
       "        vertical-align: top;\n",
       "    }\n",
       "\n",
       "    .dataframe thead th {\n",
       "        text-align: right;\n",
       "    }\n",
       "</style>\n",
       "<table border=\"1\" class=\"dataframe\">\n",
       "  <thead>\n",
       "    <tr style=\"text-align: right;\">\n",
       "      <th></th>\n",
       "      <th>exp_group</th>\n",
       "      <th>user_id</th>\n",
       "      <th>likes</th>\n",
       "      <th>views</th>\n",
       "      <th>ctr</th>\n",
       "    </tr>\n",
       "  </thead>\n",
       "  <tbody>\n",
       "    <tr>\n",
       "      <th>0</th>\n",
       "      <td>3</td>\n",
       "      <td>115383</td>\n",
       "      <td>12</td>\n",
       "      <td>44</td>\n",
       "      <td>0.272727</td>\n",
       "    </tr>\n",
       "    <tr>\n",
       "      <th>1</th>\n",
       "      <td>3</td>\n",
       "      <td>123580</td>\n",
       "      <td>2</td>\n",
       "      <td>11</td>\n",
       "      <td>0.181818</td>\n",
       "    </tr>\n",
       "    <tr>\n",
       "      <th>2</th>\n",
       "      <td>0</td>\n",
       "      <td>4944</td>\n",
       "      <td>8</td>\n",
       "      <td>41</td>\n",
       "      <td>0.195122</td>\n",
       "    </tr>\n",
       "    <tr>\n",
       "      <th>3</th>\n",
       "      <td>0</td>\n",
       "      <td>4504</td>\n",
       "      <td>5</td>\n",
       "      <td>15</td>\n",
       "      <td>0.333333</td>\n",
       "    </tr>\n",
       "    <tr>\n",
       "      <th>4</th>\n",
       "      <td>0</td>\n",
       "      <td>121508</td>\n",
       "      <td>6</td>\n",
       "      <td>25</td>\n",
       "      <td>0.240000</td>\n",
       "    </tr>\n",
       "  </tbody>\n",
       "</table>\n",
       "</div>"
      ],
      "text/plain": [
       "   exp_group  user_id  likes  views       ctr\n",
       "0          3   115383     12     44  0.272727\n",
       "1          3   123580      2     11  0.181818\n",
       "2          0     4944      8     41  0.195122\n",
       "3          0     4504      5     15  0.333333\n",
       "4          0   121508      6     25  0.240000"
      ]
     },
     "execution_count": 38,
     "metadata": {},
     "output_type": "execute_result"
    }
   ],
   "source": [
    "df.head()"
   ]
  },
  {
   "cell_type": "code",
   "execution_count": 39,
   "id": "21ed86e6-c2ab-40eb-945c-591667e5e0a3",
   "metadata": {},
   "outputs": [
    {
     "data": {
      "text/plain": [
       "0.2103426884412721"
      ]
     },
     "execution_count": 39,
     "metadata": {},
     "output_type": "execute_result"
    }
   ],
   "source": [
    "CTRcontrol"
   ]
  },
  {
   "cell_type": "markdown",
   "id": "40702f2c-77c0-4f99-802b-6c103498896f",
   "metadata": {},
   "source": [
    "### Посчитаем в обеих группах поюзерную метрику  𝑙𝑖𝑛𝑒𝑎𝑟𝑖𝑧𝑒𝑑_𝑙𝑖𝑘𝑒𝑠=𝑙𝑖𝑘𝑒𝑠−𝐶𝑇𝑅𝑐𝑜𝑛𝑡𝑟𝑜𝑙∗𝑣𝑖𝑒𝑤𝑠"
   ]
  },
  {
   "cell_type": "code",
   "execution_count": 40,
   "id": "edea66dc-0635-4015-a0ad-e5a8b544aa68",
   "metadata": {},
   "outputs": [],
   "source": [
    "df['linearized_likes'] = df.likes - CTRcontrol*df.views"
   ]
  },
  {
   "cell_type": "markdown",
   "id": "96833330-12e9-47dd-99bf-7f0fd9f2cdb7",
   "metadata": {},
   "source": [
    "### Посмотрим как выглядит распределение метрики"
   ]
  },
  {
   "cell_type": "code",
   "execution_count": 41,
   "id": "080ba651-ed53-4b7a-bc62-c0b16e232351",
   "metadata": {},
   "outputs": [
    {
     "data": {
      "text/plain": [
       "<Axes: xlabel='linearized_likes', ylabel='Count'>"
      ]
     },
     "execution_count": 41,
     "metadata": {},
     "output_type": "execute_result"
    },
    {
     "data": {
      "image/png": "[encoded data removed]",
      "text/plain": [
       "<Figure size 864x432 with 1 Axes>"
      ]
     },
     "metadata": {},
     "output_type": "display_data"
    }
   ],
   "source": [
    "sns.histplot(data = df, x = 'linearized_likes',hue = 'exp_group')"
   ]
  },
  {
   "cell_type": "markdown",
   "id": "389e2c6a-59ff-4cdc-a831-9746617f3b0d",
   "metadata": {},
   "source": [
    "### сравним  t-тестом отличия в группах по метрике 𝑙𝑖𝑛𝑒𝑎𝑟𝑖𝑧𝑒𝑑_𝑙𝑖𝑘𝑒𝑠"
   ]
  },
  {
   "cell_type": "code",
   "execution_count": 42,
   "id": "f37ae00c-9207-49d0-9102-af5555c0da44",
   "metadata": {},
   "outputs": [
    {
     "data": {
      "text/plain": [
       "Ttest_indResult(statistic=-16.185111817476212, pvalue=1.5188399261487063e-58)"
      ]
     },
     "execution_count": 42,
     "metadata": {},
     "output_type": "execute_result"
    }
   ],
   "source": [
    "ss.ttest_ind(df[df.exp_group == 0].linearized_likes,df[df.exp_group == 3].linearized_likes,equal_var = False)"
   ]
  },
  {
   "cell_type": "code",
   "execution_count": 44,
   "id": "3851c66d-bfad-41a5-b11b-09508ec6232d",
   "metadata": {},
   "outputs": [
    {
     "data": {
      "text/plain": [
       "Ttest_indResult(statistic=-13.935320516755773, pvalue=6.216047483062228e-44)"
      ]
     },
     "execution_count": 44,
     "metadata": {},
     "output_type": "execute_result"
    }
   ],
   "source": [
    "ss.ttest_ind(df[df.exp_group == 0].ctr,df[df.exp_group == 3].ctr,equal_var = False)"
   ]
  },
  {
   "cell_type": "markdown",
   "id": "e70f4e9f-6e86-4914-98cd-3c160480f2af",
   "metadata": {},
   "source": [
    "### т-тест показывает  статически значимые различия между группами. P-value стало меньше для метрики linearized likes\n",
    "\n",
    "\n",
    "### Проделаем те же операции для групп 1 и 2"
   ]
  },
  {
   "cell_type": "code",
   "execution_count": 45,
   "id": "43c98f14-0e1e-4014-aeb1-c8bcadb508de",
   "metadata": {},
   "outputs": [],
   "source": [
    "q = \"\"\"\n",
    "select exp_group,\n",
    "    user_id,\n",
    "    sum(action = 'like') as likes,\n",
    "    sum(action = 'view') as views,\n",
    "    likes / views as ctr\n",
    "from {db}.feed_actions\n",
    "where toDate(time) between '2023-12-29' and '2024-01-04'\n",
    "    and exp_group in (1,2)\n",
    "    group by exp_group, user_id\n",
    "\"\"\"\n",
    "df2 = pandahouse.read_clickhouse(q, connection = connection)"
   ]
  },
  {
   "cell_type": "code",
   "execution_count": 46,
   "id": "f026096d-81ed-43c6-9cb2-ec2c19bfff8b",
   "metadata": {},
   "outputs": [],
   "source": [
    "CTRcontrol = df2[df2.exp_group == 1].likes.sum() / df2[df2.exp_group == 2].views.sum()"
   ]
  },
  {
   "cell_type": "code",
   "execution_count": 47,
   "id": "f048f7fa-34e1-4032-848e-63020e5124af",
   "metadata": {},
   "outputs": [],
   "source": [
    "df2['linearized_likes'] = df2.likes - CTRcontrol*df2.views"
   ]
  },
  {
   "cell_type": "code",
   "execution_count": 48,
   "id": "5a17688d-b17c-41d9-b4fd-a61edd1cb04c",
   "metadata": {},
   "outputs": [
    {
     "data": {
      "text/plain": [
       "<Axes: xlabel='linearized_likes', ylabel='Count'>"
      ]
     },
     "execution_count": 48,
     "metadata": {},
     "output_type": "execute_result"
    },
    {
     "data": {
      "image/png": "[encoded data removed]",
      "text/plain": [
       "<Figure size 864x432 with 1 Axes>"
      ]
     },
     "metadata": {},
     "output_type": "display_data"
    }
   ],
   "source": [
    "sns.histplot(data = df2, x = 'linearized_likes',hue = 'exp_group')"
   ]
  },
  {
   "cell_type": "code",
   "execution_count": 51,
   "id": "595b36df-5cdf-4776-bdc0-bc2a7df7a26b",
   "metadata": {},
   "outputs": [
    {
     "data": {
      "text/plain": [
       "Ttest_indResult(statistic=5.911547801865759, pvalue=3.4651949397662443e-09)"
      ]
     },
     "execution_count": 51,
     "metadata": {},
     "output_type": "execute_result"
    }
   ],
   "source": [
    "ss.ttest_ind(df2[df2.exp_group == 1].linearized_likes,df2[df2.exp_group == 2].linearized_likes,equal_var = False)"
   ]
  },
  {
   "cell_type": "code",
   "execution_count": 52,
   "id": "1767dc1f-1005-4d05-95d6-c0bb7dd5dc86",
   "metadata": {},
   "outputs": [
    {
     "data": {
      "text/plain": [
       "Ttest_indResult(statistic=0.4051491913112757, pvalue=0.685373331140751)"
      ]
     },
     "execution_count": 52,
     "metadata": {},
     "output_type": "execute_result"
    }
   ],
   "source": [
    "ss.ttest_ind(df2[df2.exp_group == 1].ctr,df2[df2.exp_group == 2].ctr,equal_var = False)"
   ]
  },
  {
   "cell_type": "markdown",
   "id": "ee66dac2-f994-4133-b987-bb7e9b6695ac",
   "metadata": {},
   "source": [
    "### В этом случае т-тест видит статиcтически значимые различия между группами. В отличие от теста проведенного для метрики CTR,p-value стало меньше порога статистической значимости\n"
   ]
  },
  {
   "cell_type": "code",
   "execution_count": null,
   "id": "dcd70ed4-f923-494a-b1d0-5b97ee354cbc",
   "metadata": {},
   "outputs": [],
   "source": []
  },
  {
   "cell_type": "code",
   "execution_count": null,
   "id": "3b7f20ad-eae3-4409-87ec-86fbb2af619f",
   "metadata": {},
   "outputs": [],
   "source": []
  },
  {
   "cell_type": "code",
   "execution_count": null,
   "id": "5d7ad478-e792-4aaa-8f9b-35d39fe3c9f1",
   "metadata": {},
   "outputs": [],
   "source": []
  },
  {
   "cell_type": "code",
   "execution_count": null,
   "id": "45d314f5-c23d-4e67-900c-2f7b2ad8c72f",
   "metadata": {},
   "outputs": [],
   "source": []
  },
  {
   "cell_type": "code",
   "execution_count": null,
   "id": "449a41f1-631e-4dcb-ac7c-51f1b44f5c57",
   "metadata": {},
   "outputs": [],
   "source": []
  }
 ],
 "metadata": {
  "kernelspec": {
   "display_name": "Python 3 (ipykernel)",
   "language": "python",
   "name": "python3"
  },
  "language_info": {
   "codemirror_mode": {
    "name": "ipython",
    "version": 3
   },
   "file_extension": ".py",
   "mimetype": "text/x-python",
   "name": "python",
   "nbconvert_exporter": "python",
   "pygments_lexer": "ipython3",
   "version": "3.8.10"
  }
 },
 "nbformat": 4,
 "nbformat_minor": 5
}
