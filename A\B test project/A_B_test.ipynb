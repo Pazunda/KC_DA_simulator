{
 "cells": [
  {
   "cell_type": "code",
   "execution_count": 35,
   "id": "7ea7c205-5f9d-4351-93fa-288be62b62cb",
   "metadata": {},
   "outputs": [],
   "source": [
    "import pandas as pd\n",
    "import hashlib\n",
    "import pandahouse\n",
    "import seaborn as sns\n",
    "import scipy.stats as ss\n",
    "import numpy as np\n",
    "import matplotlib.pyplot\n",
    "sns.set(rc = {'figure.figsize' : (12,6)})"
   ]
  },
  {
   "cell_type": "code",
   "execution_count": 10,
   "id": "7c3adab2-f2e9-4741-b3df-18a113fd3463",
   "metadata": {},
   "outputs": [],
   "source": [
    "connection = {\n",
    "    'host': 'https://clickhouse.lab.karpov.courses',\n",
    "    'password': 'dpo_python_2020',\n",
    "    'user': 'student',\n",
    "    'database': 'simulator_20240120'\n",
    "}"
   ]
  },
  {
   "cell_type": "markdown",
   "id": "e78dd3b7-5416-4b5a-bf2f-7e652bbd7aef",
   "metadata": {},
   "source": [
    "# Задание №2\n",
    "Эксперимент проходил с 2023-12-29 по 2024-01-04 включительно. Для эксперимента были задействованы 2 и 1 группы. \n",
    "\n",
    "В группе 2 был использован один из новых алгоритмов рекомендации постов, группа 1 использовалась в качестве контроля. \n",
    "\n",
    "Основная гипотеза заключается в том, что новый алгоритм во 2-й группе приведет к увеличению CTR. \n",
    "\n",
    "Ваша задача — проанализировать данные А/B-теста. \n",
    "\n",
    "Выбрать метод анализа и сравнить CTR в двух группах (мы разбирали t-тест, Пуассоновский бутстреп, тест Манна-Уитни, t-тест на сглаженном ctr (α=5) а также t-тест и тест Манна-Уитни поверх бакетного преобразования).\n",
    "\n",
    "Сравните данные этими тестами. А еще посмотрите на распределения глазами. Почему тесты сработали именно так? \n",
    "\n",
    "Опишите потенциальную ситуацию, когда такое изменение могло произойти. Тут нет идеального ответа, подумайте.\n",
    "\n",
    "Напишите рекомендацию, будем ли мы раскатывать новый алгоритм на всех новых пользователей или все-таки не стоит.\n",
    "\n",
    "### Подсоединимся к Clickhouse  и соберем датасет в который положим посчитанные по пользователям лайки, просмотры и CTR для экспериментальных групп 1 и 2"
   ]
  },
  {
   "cell_type": "code",
   "execution_count": 11,
   "id": "99f22fea-710d-4157-ae28-4dbd30ae32d8",
   "metadata": {},
   "outputs": [],
   "source": [
    "q = \"\"\"\n",
    "select exp_group,\n",
    "    user_id,\n",
    "    sum(action = 'like') as likes,\n",
    "    sum(action = 'view') as views,\n",
    "    likes / views as ctr\n",
    "from {db}.feed_actions\n",
    "where toDate(time) between '2023-12-29' and '2024-01-04'\n",
    "    and exp_group in (1,2)\n",
    "    group by exp_group, user_id\n",
    "\"\"\"\n",
    "df = pandahouse.read_clickhouse(q, connection = connection)"
   ]
  },
  {
   "cell_type": "code",
   "execution_count": 12,
   "id": "e46ece28-f8c0-4cd3-b9fa-fcd10d1cb8fe",
   "metadata": {},
   "outputs": [
    {
     "name": "stdout",
     "output_type": "stream",
     "text": [
      "<class 'pandas.core.frame.DataFrame'>\n",
      "RangeIndex: 19897 entries, 0 to 19896\n",
      "Data columns (total 5 columns):\n",
      " #   Column     Non-Null Count  Dtype  \n",
      "---  ------     --------------  -----  \n",
      " 0   exp_group  19897 non-null  int8   \n",
      " 1   user_id    19897 non-null  uint32 \n",
      " 2   likes      19897 non-null  uint64 \n",
      " 3   views      19897 non-null  uint64 \n",
      " 4   ctr        19897 non-null  float64\n",
      "dtypes: float64(1), int8(1), uint32(1), uint64(2)\n",
      "memory usage: 563.6 KB\n"
     ]
    }
   ],
   "source": [
    "df.info()"
   ]
  },
  {
   "cell_type": "code",
   "execution_count": 97,
   "id": "c15c0b8f-091c-4b79-be30-f8489264ea36",
   "metadata": {},
   "outputs": [
    {
     "name": "stdout",
     "output_type": "stream",
     "text": [
      "10020 пользователей в группе № 1\n",
      "9877 пользователей в группе № 2\n",
      "0.216773994120072 - средний CTR пользователей в группе № 1\n",
      "0.2161016893237817 - средний CTR пользователей в группе № 2\n"
     ]
    }
   ],
   "source": [
    "print(f'{df[df.exp_group == 1].user_id.count()} пользователей в группе № 1')\n",
    "print(f'{df[df.exp_group == 2].user_id.count()} пользователей в группе № 2')\n",
    "\n",
    "print(f'{df[df.exp_group == 1].ctr.mean()} - средний CTR пользователей в группе № 1')\n",
    "print(f'{df[df.exp_group == 2].ctr.mean()} - средний CTR пользователей в группе № 2')"
   ]
  },
  {
   "cell_type": "code",
   "execution_count": 98,
   "id": "873891c5-6ae3-42b9-9765-cb60d1dbb0c2",
   "metadata": {},
   "outputs": [
    {
     "data": {
      "text/plain": [
       "<Axes: xlabel='ctr', ylabel='Count'>"
      ]
     },
     "execution_count": 98,
     "metadata": {},
     "output_type": "execute_result"
    },
    {
     "data": {
      "image/png": "[encoded data removed]",
      "text/plain": [
       "<Figure size 864x432 with 1 Axes>"
      ]
     },
     "metadata": {},
     "output_type": "display_data"
    }
   ],
   "source": [
    "sns.histplot(data = df, x = 'ctr',hue = 'exp_group', bins = 100, palette = ['y','b'])\n",
    "\n"
   ]
  },
  {
   "cell_type": "markdown",
   "id": "521f55b7-9395-45b7-af24-1a7ba937cd40",
   "metadata": {},
   "source": [
    "### Всего у нас 16787 пользователей. Распределены они примерно равномерно. Средний CTR в первой группе (контроль) выше чем во второй (тест)\n",
    "### Мы видим, что распределение в группе №2 двумодальное. То есть его нельзя считать нормальным. \n",
    "### Проведем тесты для сравнения CTR в группах"
   ]
  },
  {
   "cell_type": "markdown",
   "id": "d665a135-05ae-425e-9529-1ff9dc63e222",
   "metadata": {},
   "source": [
    "## T-Test"
   ]
  },
  {
   "cell_type": "code",
   "execution_count": 15,
   "id": "eba4f86c-8a4a-4442-a2b6-bef2df2f8f61",
   "metadata": {},
   "outputs": [
    {
     "data": {
      "text/plain": [
       "Ttest_indResult(statistic=0.4051491913112757, pvalue=0.685373331140751)"
      ]
     },
     "execution_count": 15,
     "metadata": {},
     "output_type": "execute_result"
    }
   ],
   "source": [
    "ss.ttest_ind(df[df.exp_group == 1].ctr,df[df.exp_group == 2].ctr,equal_var = False)"
   ]
  },
  {
   "cell_type": "markdown",
   "id": "6910f60e-23e3-4436-9e87-9ff194c72d35",
   "metadata": {},
   "source": [
    "### Т-тест не показал различий в средних значениях CTR между группами. Однако, поскольку т-тест чувствителен к отклонениям от нормальности эти результаты можно посавить под сомнение.\n",
    "## Тест Манна-Уитни"
   ]
  },
  {
   "cell_type": "code",
   "execution_count": 16,
   "id": "7193cbe1-af95-434f-a514-7aeb6453d7d3",
   "metadata": {},
   "outputs": [
    {
     "data": {
      "text/plain": [
       "MannwhitneyuResult(statistic=55189913.0, pvalue=4.632205841806026e-45)"
      ]
     },
     "execution_count": 16,
     "metadata": {},
     "output_type": "execute_result"
    }
   ],
   "source": [
    "ss.mannwhitneyu(df[df.exp_group == 1].ctr,df[df.exp_group == 2].ctr)"
   ]
  },
  {
   "cell_type": "code",
   "execution_count": 24,
   "id": "6cec80d5-89b2-431d-9eaf-6dc00f108f3e",
   "metadata": {},
   "outputs": [
    {
     "name": "stdout",
     "output_type": "stream",
     "text": [
      "B 55.73  случаев значение CTR в первой группе больше чем во второй\n",
      "CPU times: user 22.1 s, sys: 5.62 ms, total: 22.1 s\n",
      "Wall time: 22.3 s\n"
     ]
    }
   ],
   "source": [
    "%%time\n",
    "A_gt_B = 0\n",
    "for _ in range(10000):\n",
    "    A_gt_B += df[df.exp_group == 1].ctr.sample().values[0] > df[df.exp_group == 2].ctr.sample().values[0]\n",
    "print('B', A_gt_B/100, '% случаев значение CTR в первой группе больше чем во второй')"
   ]
  },
  {
   "cell_type": "markdown",
   "id": "886dd6c3-25fc-4b46-b62a-40bcd92492ab",
   "metadata": {},
   "source": [
    "### Мы зафиксировали значение P-value в тесте намного меньше чем порог значимости, а значит тест зафиксировал статистически значимые различия в наших группах.С большой долей вероятности мы можем утверждать, что CTR в первой группе выше чем во второй и это не случайно\n",
    "## Сглаженный CTR (Smooth CTR)\n",
    "### Напишем функцию сглаживания CTR\n"
   ]
  },
  {
   "cell_type": "code",
   "execution_count": 37,
   "id": "37d6a8d8-be36-42e7-9c2a-f038dd121ab2",
   "metadata": {},
   "outputs": [],
   "source": [
    "def get_smoothed_ctr(likes,views,global_ctr,alpha):\n",
    "    smoothed_ctr = (likes + global_ctr*alpha) / (views +alpha)\n",
    "    return smoothed_ctr"
   ]
  },
  {
   "cell_type": "markdown",
   "id": "f8936ec8-b1fc-4c62-9c6d-30d862cf9820",
   "metadata": {},
   "source": [
    "### определим общегрупповой CTR для групп 1 и 2"
   ]
  },
  {
   "cell_type": "code",
   "execution_count": 42,
   "id": "63b33375-1ed1-4f7c-b03c-67322e0c3c3b",
   "metadata": {},
   "outputs": [],
   "source": [
    "global_ctr1 = df[df.exp_group == 1].likes.sum() / df[df.exp_group == 1].views.sum()\n",
    "global_ctr2 = df[df.exp_group == 2].likes.sum() / df[df.exp_group == 2].views.sum()"
   ]
  },
  {
   "cell_type": "markdown",
   "id": "b7e8b09a-065d-4077-9f5f-34209af2f4fb",
   "metadata": {},
   "source": [
    "### Рассчитаем поюзерно сглаженный CTR. При этом гиперпараметр альфа = 5"
   ]
  },
  {
   "cell_type": "code",
   "execution_count": 56,
   "id": "0298786a-868c-458a-aa8b-af9f1d2e2c94",
   "metadata": {},
   "outputs": [],
   "source": [
    "group1 = df[df.exp_group == 1].copy()\n",
    "group1['smoothed_ctr'] = group1.apply(lambda x : get_smoothed_ctr(x['likes'],x['views'],global_ctr1,5),axis = 1)\n",
    "                                                                    \n",
    "group2 = df[df.exp_group == 2].copy()\n",
    "group2['smoothed_ctr'] = group2.apply(lambda x : get_smoothed_ctr(x['likes'],x['views'],global_ctr1,5),axis = 1)                                                                    "
   ]
  },
  {
   "cell_type": "code",
   "execution_count": 57,
   "id": "8fa634f0-8ac3-4a49-9109-3ff3e4c8f4f1",
   "metadata": {},
   "outputs": [
    {
     "data": {
      "text/plain": [
       "<Axes: xlabel='ctr', ylabel='Count'>"
      ]
     },
     "execution_count": 57,
     "metadata": {},
     "output_type": "execute_result"
    },
    {
     "data": {
      "image/png": "[encoded data removed]",
      "text/plain": [
       "<Figure size 864x432 with 1 Axes>"
      ]
     },
     "metadata": {},
     "output_type": "display_data"
    }
   ],
   "source": [
    "\n",
    "sns.histplot(data = group1,x = 'ctr')\n",
    "sns.histplot(data = group1,x = 'smoothed_ctr')"
   ]
  },
  {
   "cell_type": "code",
   "execution_count": 58,
   "id": "5d44beb4-79b9-435d-a448-44158af59291",
   "metadata": {},
   "outputs": [
    {
     "data": {
      "text/plain": [
       "Ttest_indResult(statistic=1.2447034376197381, pvalue=0.2132595139150962)"
      ]
     },
     "execution_count": 58,
     "metadata": {},
     "output_type": "execute_result"
    }
   ],
   "source": [
    "ss.ttest_ind(group1.smoothed_ctr,group2.smoothed_ctr,equal_var = False)"
   ]
  },
  {
   "cell_type": "markdown",
   "id": "b43210a3-9df3-44db-9030-b1dea8f88af1",
   "metadata": {},
   "source": [
    "### Проверим тест на разных значениях гиперпарамета альфа"
   ]
  },
  {
   "cell_type": "code",
   "execution_count": 64,
   "id": "2d738bda-8e3e-4ceb-8d92-3b34b80356dc",
   "metadata": {},
   "outputs": [
    {
     "data": {
      "text/plain": [
       "<Axes: >"
      ]
     },
     "execution_count": 64,
     "metadata": {},
     "output_type": "execute_result"
    },
    {
     "data": {
      "image/png": "[encoded data removed]",
      "text/plain": [
       "<Figure size 864x432 with 1 Axes>"
      ]
     },
     "metadata": {},
     "output_type": "display_data"
    }
   ],
   "source": [
    "pvalues = []\n",
    "for alpha in (1,5,10,15,20,25,30):\n",
    "    group1 = df[df.exp_group == 1].copy()\n",
    "    group1['smoothed_ctr'] = group1.apply(lambda x : get_smoothed_ctr(x['likes'],x['views'],global_ctr1,alpha),axis = 1)\n",
    "                                                                    \n",
    "    group2 = df[df.exp_group == 2].copy()\n",
    "    group2['smoothed_ctr'] = group2.apply(lambda x : get_smoothed_ctr(x['likes'],x['views'],global_ctr1,alpha),axis = 1) \n",
    "\n",
    "    test = ss.ttest_ind(group1.smoothed_ctr,group2.smoothed_ctr,equal_var = False)\n",
    "    pvalues.append( test.pvalue)\n",
    "sns.lineplot(pvalues)"
   ]
  },
  {
   "cell_type": "code",
   "execution_count": 61,
   "id": "2ce25a2a-37eb-4be7-99ff-ba94a5d2fc2b",
   "metadata": {},
   "outputs": [
    {
     "data": {
      "text/plain": [
       "[0.2132595139150962,\n",
       " 0.0720196054667731,\n",
       " 0.027378761451629263,\n",
       " 0.011600247193359671,\n",
       " 0.005394111920378082,\n",
       " 0.0027141567601868715]"
      ]
     },
     "execution_count": 61,
     "metadata": {},
     "output_type": "execute_result"
    }
   ],
   "source": [
    "pvalues"
   ]
  },
  {
   "cell_type": "markdown",
   "id": "ce4d892e-3ae0-4db9-a2e3-a083fa12d1d2",
   "metadata": {},
   "source": [
    "### тест не выявил статистически значимых различий в CTR между группами. Однако изменяя гиперпараметр альфа можно добиться иных результатов. В связи с чем я не считаю этот тест достаточно надежным, чтобы быть уверенным в его результатах"
   ]
  },
  {
   "cell_type": "markdown",
   "id": "3f4986b0-fb71-43e0-8f83-a12ff9317e98",
   "metadata": {},
   "source": [
    "## Bootstrap\n",
    "### Напишем функцию пуассоновского бутстрепа"
   ]
  },
  {
   "cell_type": "code",
   "execution_count": 69,
   "id": "0a2a00f4-2516-461e-9776-6671b442c53d",
   "metadata": {},
   "outputs": [],
   "source": [
    "def bootstrap(likes1,views1,likes2,views2,n_bootstrap = 5000):\n",
    "    weight_1  = ss.poisson(1).rvs((n_bootstrap, len(likes1))).astype(np.int64)\n",
    "    weight_2  = ss.poisson(1).rvs((n_bootstrap, len(likes2))).astype(np.int64)\n",
    "    \n",
    "    global_CTR1 = (weight_1*likes1).sum(axis = 1)/(weight_1*views1).sum(axis = 1)\n",
    "    global_CTR2 = (weight_2*likes2).sum(axis = 1)/(weight_2*views2).sum(axis = 1)\n",
    "    \n",
    "    return global_CTR1,global_CTR2\n"
   ]
  },
  {
   "cell_type": "markdown",
   "id": "4c10b3b3-603b-4fb9-bebf-95119899ca04",
   "metadata": {},
   "source": [
    "### Применим ее к нашим группам "
   ]
  },
  {
   "cell_type": "code",
   "execution_count": 70,
   "id": "5920aca0-a5f9-4001-9dd9-7e969db62bf5",
   "metadata": {},
   "outputs": [
    {
     "name": "stdout",
     "output_type": "stream",
     "text": [
      "CPU times: user 6.17 s, sys: 3.17 s, total: 9.33 s\n",
      "Wall time: 9.48 s\n"
     ]
    }
   ],
   "source": [
    "%%time\n",
    "likes1 = df[df.exp_group == 1].likes.to_numpy()\n",
    "likes2 = df[df.exp_group == 2].likes.to_numpy()\n",
    "views1 = df[df.exp_group == 1].views.to_numpy()\n",
    "views2 = df[df.exp_group == 2].views.to_numpy()\n",
    "\n",
    "ctr1,ctr2 = bootstrap(likes1,views1,likes2,views2)"
   ]
  },
  {
   "cell_type": "code",
   "execution_count": 86,
   "id": "c1f28cfe-25f7-46b6-a0f2-e2a4065b3c30",
   "metadata": {},
   "outputs": [],
   "source": [
    "d = {'ctr1':ctr1,'ctr2':ctr2}\n",
    "bootstrep = pd.DataFrame(data = d)"
   ]
  },
  {
   "cell_type": "code",
   "execution_count": 91,
   "id": "e450a085-dd37-431d-904d-7c76470319bf",
   "metadata": {},
   "outputs": [
    {
     "data": {
      "text/plain": [
       "<Axes: ylabel='Count'>"
      ]
     },
     "execution_count": 91,
     "metadata": {},
     "output_type": "execute_result"
    },
    {
     "data": {
      "image/png": "[encoded data removed]",
      "text/plain": [
       "<Figure size 864x432 with 1 Axes>"
      ]
     },
     "metadata": {},
     "output_type": "display_data"
    }
   ],
   "source": [
    "\n",
    "sns.histplot(data = bootstrep, bins = 50)\n"
   ]
  },
  {
   "cell_type": "code",
   "execution_count": 74,
   "id": "1f633723-2bdf-4a8e-a323-719f47c7e622",
   "metadata": {},
   "outputs": [
    {
     "data": {
      "text/plain": [
       "Ttest_indResult(statistic=423.4466068192122, pvalue=0.0)"
      ]
     },
     "execution_count": 74,
     "metadata": {},
     "output_type": "execute_result"
    }
   ],
   "source": [
    "ss.ttest_ind(ctr1,ctr2,equal_var = False)"
   ]
  },
  {
   "cell_type": "markdown",
   "id": "ffecb94c-2301-4493-bede-828ce30d40d3",
   "metadata": {},
   "source": [
    "### Бутстреп однозначно показывает наличие статистически значимых различий между выборками. При этом общегрупповой CTR в группе 1 выше чем в группе 2"
   ]
  },
  {
   "cell_type": "markdown",
   "id": "aebf4e06-d0a4-4372-b52b-72cfa3b23d69",
   "metadata": {},
   "source": [
    "## Bucket distribution\n",
    "### Сделаем запрос к базе данных для получения распределения наших пользователей по корзинам с подсчетом внутригруппового CTR внутри каждой корзины"
   ]
  },
  {
   "cell_type": "code",
   "execution_count": 93,
   "id": "7ec2fda4-bb6c-406f-a45e-69eec26ac257",
   "metadata": {},
   "outputs": [],
   "source": [
    "q2 = \"\"\"\n",
    "select\n",
    "    exp_group, \n",
    "    bucket,\n",
    "    sum(likes)/sum(views) as bucket_ctr\n",
    "from (\n",
    "    select\n",
    "        exp_group,\n",
    "        xxHash64(user_id)%50 as bucket,\n",
    "        user_id,\n",
    "        sum(action = 'like') as likes,\n",
    "        sum(action = 'view') as views,\n",
    "        likes / views as ctr\n",
    "    from {db}.feed_actions\n",
    "    where toDate(time) between '2023-12-29' and '2024-01-04'\n",
    "        and exp_group in (1,2)\n",
    "        group by exp_group, user_id)\n",
    "group by exp_group,bucket\n",
    "\"\"\"\n",
    "df2 = pandahouse.read_clickhouse(q2, connection = connection)"
   ]
  },
  {
   "cell_type": "code",
   "execution_count": 94,
   "id": "2bbd5a23-180d-4173-a5e3-4ca53c10e382",
   "metadata": {},
   "outputs": [
    {
     "data": {
      "text/html": [
       "<div>\n",
       "<style scoped>\n",
       "    .dataframe tbody tr th:only-of-type {\n",
       "        vertical-align: middle;\n",
       "    }\n",
       "\n",
       "    .dataframe tbody tr th {\n",
       "        vertical-align: top;\n",
       "    }\n",
       "\n",
       "    .dataframe thead th {\n",
       "        text-align: right;\n",
       "    }\n",
       "</style>\n",
       "<table border=\"1\" class=\"dataframe\">\n",
       "  <thead>\n",
       "    <tr style=\"text-align: right;\">\n",
       "      <th></th>\n",
       "      <th>exp_group</th>\n",
       "      <th>bucket</th>\n",
       "      <th>bucket_ctr</th>\n",
       "    </tr>\n",
       "  </thead>\n",
       "  <tbody>\n",
       "    <tr>\n",
       "      <th>0</th>\n",
       "      <td>1</td>\n",
       "      <td>0</td>\n",
       "      <td>0.200592</td>\n",
       "    </tr>\n",
       "    <tr>\n",
       "      <th>1</th>\n",
       "      <td>2</td>\n",
       "      <td>0</td>\n",
       "      <td>0.196510</td>\n",
       "    </tr>\n",
       "    <tr>\n",
       "      <th>2</th>\n",
       "      <td>1</td>\n",
       "      <td>1</td>\n",
       "      <td>0.208799</td>\n",
       "    </tr>\n",
       "    <tr>\n",
       "      <th>3</th>\n",
       "      <td>2</td>\n",
       "      <td>1</td>\n",
       "      <td>0.210375</td>\n",
       "    </tr>\n",
       "    <tr>\n",
       "      <th>4</th>\n",
       "      <td>1</td>\n",
       "      <td>2</td>\n",
       "      <td>0.204632</td>\n",
       "    </tr>\n",
       "    <tr>\n",
       "      <th>...</th>\n",
       "      <td>...</td>\n",
       "      <td>...</td>\n",
       "      <td>...</td>\n",
       "    </tr>\n",
       "    <tr>\n",
       "      <th>95</th>\n",
       "      <td>2</td>\n",
       "      <td>47</td>\n",
       "      <td>0.196808</td>\n",
       "    </tr>\n",
       "    <tr>\n",
       "      <th>96</th>\n",
       "      <td>1</td>\n",
       "      <td>48</td>\n",
       "      <td>0.216369</td>\n",
       "    </tr>\n",
       "    <tr>\n",
       "      <th>97</th>\n",
       "      <td>2</td>\n",
       "      <td>48</td>\n",
       "      <td>0.194780</td>\n",
       "    </tr>\n",
       "    <tr>\n",
       "      <th>98</th>\n",
       "      <td>1</td>\n",
       "      <td>49</td>\n",
       "      <td>0.206288</td>\n",
       "    </tr>\n",
       "    <tr>\n",
       "      <th>99</th>\n",
       "      <td>2</td>\n",
       "      <td>49</td>\n",
       "      <td>0.192512</td>\n",
       "    </tr>\n",
       "  </tbody>\n",
       "</table>\n",
       "<p>100 rows × 3 columns</p>\n",
       "</div>"
      ],
      "text/plain": [
       "    exp_group  bucket  bucket_ctr\n",
       "0           1       0    0.200592\n",
       "1           2       0    0.196510\n",
       "2           1       1    0.208799\n",
       "3           2       1    0.210375\n",
       "4           1       2    0.204632\n",
       "..        ...     ...         ...\n",
       "95          2      47    0.196808\n",
       "96          1      48    0.216369\n",
       "97          2      48    0.194780\n",
       "98          1      49    0.206288\n",
       "99          2      49    0.192512\n",
       "\n",
       "[100 rows x 3 columns]"
      ]
     },
     "execution_count": 94,
     "metadata": {},
     "output_type": "execute_result"
    }
   ],
   "source": [
    "df2"
   ]
  },
  {
   "cell_type": "markdown",
   "id": "5633f492-6c31-47b0-91c1-13d55b6c4ec8",
   "metadata": {},
   "source": [
    "### проведем т-тест для CTR поверх бакетного преобразования"
   ]
  },
  {
   "cell_type": "code",
   "execution_count": 95,
   "id": "c0a79d16-7472-4372-b86d-f51aba6ba460",
   "metadata": {},
   "outputs": [
    {
     "data": {
      "text/plain": [
       "Ttest_indResult(statistic=5.614819358149381, pvalue=4.592644937473873e-07)"
      ]
     },
     "execution_count": 95,
     "metadata": {},
     "output_type": "execute_result"
    }
   ],
   "source": [
    "ss.ttest_ind(df2[df2.exp_group == 1].bucket_ctr,df2[df2.exp_group == 2].bucket_ctr,equal_var = False)"
   ]
  },
  {
   "cell_type": "markdown",
   "id": "f30f2ea7-fd11-4db5-b49f-e739344dc7ad",
   "metadata": {},
   "source": [
    "### проведем тест Манна-Уитни для CTR поверх бакетного преобразования"
   ]
  },
  {
   "cell_type": "code",
   "execution_count": 96,
   "id": "6fde0bac-dd8b-4679-ab39-883e4b3d6ffa",
   "metadata": {},
   "outputs": [
    {
     "data": {
      "text/plain": [
       "MannwhitneyuResult(statistic=1997.0, pvalue=2.6576427804010095e-07)"
      ]
     },
     "execution_count": 96,
     "metadata": {},
     "output_type": "execute_result"
    }
   ],
   "source": [
    "ss.mannwhitneyu(df2[df2.exp_group == 1].bucket_ctr,df2[df2.exp_group == 2].bucket_ctr)"
   ]
  },
  {
   "cell_type": "markdown",
   "id": "659dfcbe-1bea-43ee-9a60-57c4ae0b31f5",
   "metadata": {},
   "source": [
    "### Как т-тест, так и тест Манна-Уитни показали статистически значимые различия в CTR между группами пользователей "
   ]
  },
  {
   "cell_type": "markdown",
   "id": "9293bdf7-9422-42b2-bf9f-bc046ecc164e",
   "metadata": {},
   "source": [
    "# Ответы:\n",
    "### 1. Мы провели ряд тестов для определения наличия изменений вызванных нашими преобразованиями. Результаты описаны выше\n",
    "### 2. Учитывая, что распределение пользователей в группе 2 очевидно имеет отклонения от нормальности мы можем усомниться в результатах т-теста Стъюдента. Также сомнения вызывают результаты т-теста на сглаженном CTR, поскольку, в зависимости от гиперпараметра альфа мы получаем разные результаты теста. Остальные тесты менее чувствительны к нормальности распределения и показывают наличие статистически значимых различий между группами. При этом CTR в тестовой группе ниже чем в контрольной.\n",
    "### 3. Глядя на гистограмму распределения CTR пользователей в тестовой группе мы видим, что для на графике есть две моды. Предположительно наши изменения вызвали противоположные реакции у пользователей: одна часть одобрительно отнеслась к ним и стала больше лайкать, другая же наоборот, стала лайкать меньше. В среднем СTR как метрика одобрения пользователей уменьшился.\n",
    "### 4. Проведенные тесты показали, что либо различий нет, либо CTR уменьшился, а значит раскатывать алгоритм на всех пользователей не имеет смысла\n"
   ]
  },
  {
   "cell_type": "code",
   "execution_count": null,
   "id": "b1111cd5-77bc-4788-bbfd-7fdba5875c24",
   "metadata": {},
   "outputs": [],
   "source": []
  }
 ],
 "metadata": {
  "kernelspec": {
   "display_name": "Python 3 (ipykernel)",
   "language": "python",
   "name": "python3"
  },
  "language_info": {
   "codemirror_mode": {
    "name": "ipython",
    "version": 3
   },
   "file_extension": ".py",
   "mimetype": "text/x-python",
   "name": "python",
   "nbconvert_exporter": "python",
   "pygments_lexer": "ipython3",
   "version": "3.8.10"
  }
 },
 "nbformat": 4,
 "nbformat_minor": 5
}
